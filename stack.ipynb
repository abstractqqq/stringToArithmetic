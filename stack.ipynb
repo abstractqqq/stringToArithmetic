{
  "nbformat": 4,
  "nbformat_minor": 0,
  "metadata": {
    "colab": {
      "name": "stack.ipynb",
      "provenance": [],
      "collapsed_sections": [],
      "authorship_tag": "ABX9TyOvZ8U4q4NtTl3dbogBYPY4",
      "include_colab_link": true
    },
    "kernelspec": {
      "name": "python3",
      "display_name": "Python 3"
    },
    "language_info": {
      "name": "python"
    }
  },
  "cells": [
    {
      "cell_type": "markdown",
      "metadata": {
        "id": "view-in-github",
        "colab_type": "text"
      },
      "source": [
        "<a href=\"https://colab.research.google.com/github/qtren/stringToArithmetic/blob/main/stack.ipynb\" target=\"_parent\"><img src=\"https://colab.research.google.com/assets/colab-badge.svg\" alt=\"Open In Colab\"/></a>"
      ]
    },
    {
      "cell_type": "code",
      "metadata": {
        "id": "XIE4MJQeJE2_"
      },
      "source": [
        "# Array based stack, (stack overflow ~~~)\n",
        "class stack1:\n",
        "    def __init__(self, upper:int):\n",
        "        self.arr = []\n",
        "        self.upper = upper\n",
        "        self.size = 0\n",
        "\n",
        "    def push(self, val):\n",
        "        if self.size >= self.upper:\n",
        "            print('Cannot push because stack will overflow')\n",
        "        else:\n",
        "            self.arr.append(val)\n",
        "            self.size += 1\n",
        "\n",
        "    def pop(self):\n",
        "        if self.size == 0:\n",
        "            print('Cannot pop because stack will underflow')\n",
        "        else:\n",
        "            self.size -= 1\n",
        "            return self.arr.pop()\n",
        "\n",
        "\n",
        "    def display(self):\n",
        "        print(self.arr)\n"
      ],
      "execution_count": null,
      "outputs": []
    },
    {
      "cell_type": "code",
      "metadata": {
        "colab": {
          "base_uri": "https://localhost:8080/"
        },
        "id": "tAWk8xRFJ1RX",
        "outputId": "2e072f7a-e360-4ae8-8024-78e5121aef46"
      },
      "source": [
        "# Test cases\n",
        "st = stack1(3)\n",
        "st.pop()\n",
        "st.push(1)\n",
        "st.push(2)\n",
        "st.push(3)\n",
        "st.display()\n",
        "st.push(4)\n",
        "st.display()\n",
        "print(st.pop())\n",
        "st.display()"
      ],
      "execution_count": null,
      "outputs": [
        {
          "output_type": "stream",
          "text": [
            "Cannot pop because stack will underflow\n",
            "[1, 2, 3]\n",
            "Cannot push because stack will overflow\n",
            "[1, 2, 3]\n",
            "3\n",
            "[1, 2]\n"
          ],
          "name": "stdout"
        }
      ]
    },
    {
      "cell_type": "code",
      "metadata": {
        "id": "hmknvbNNJ1T8"
      },
      "source": [
        "# Linkedlist based stack\n",
        "\n",
        "class node:\n",
        "    def __init__(self, data, next = None):\n",
        "        self.data = data\n",
        "        self.next = next\n",
        "\n",
        "class stack2:\n",
        "    def __init__(self):\n",
        "        self.head = None\n",
        "\n",
        "    def isEmpty(self):\n",
        "        if self.head == None:\n",
        "            return True\n",
        "        else:\n",
        "            return False\n",
        "\n",
        "    # insert at front\n",
        "    def push(self, val):\n",
        "        n = node(val)\n",
        "        if not self.head:\n",
        "            self.head = n\n",
        "        else:\n",
        "            # head already exists\n",
        "            n.next = self.head\n",
        "            self.head = n\n",
        "\n",
        "    # Delete at front, and retrieve value\n",
        "    def pop(self):\n",
        "        if self.head == None:\n",
        "            return \"Enmpy\"\n",
        "        else:\n",
        "            current = self.head\n",
        "            val = current.data\n",
        "            current = None\n",
        "            self.head = self.head.next\n",
        "            return val\n",
        "\n",
        "    def peek(self):\n",
        "        if self.head == None:\n",
        "            return None\n",
        "        else:\n",
        "            return self.head.data\n",
        "\n",
        "    # mostly for debug purpose\n",
        "    def traverse(self):\n",
        "        h = self.head\n",
        "        while h != None:\n",
        "            print(h.data, end = \" -> \")\n",
        "            h = h.next"
      ],
      "execution_count": null,
      "outputs": []
    },
    {
      "cell_type": "code",
      "metadata": {
        "colab": {
          "base_uri": "https://localhost:8080/"
        },
        "id": "ZQCSj1tfJ1Wd",
        "outputId": "0f89d764-f587-4eac-d4d0-d76282ae00ef"
      },
      "source": [
        "# Test cases\n",
        "st2 = stack2()\n",
        "st2.push(1)\n",
        "st2.push(2)\n",
        "st2.push(3)\n",
        "st2.traverse()\n",
        "st2.pop()\n",
        "print(\"\\n\")\n",
        "st2.traverse()"
      ],
      "execution_count": null,
      "outputs": [
        {
          "output_type": "stream",
          "text": [
            "3 -> 2 -> 1 -> \n",
            "\n",
            "2 -> 1 -> "
          ],
          "name": "stdout"
        }
      ]
    },
    {
      "cell_type": "code",
      "metadata": {
        "colab": {
          "base_uri": "https://localhost:8080/"
        },
        "id": "0__XNMgqNQV6",
        "outputId": "a9dde893-d5b4-4f39-e5ec-6494b7cf367c"
      },
      "source": [
        "def parenthesis_checking(expression : str):\n",
        "    left = [\"(\", \"{\", \"[\"]\n",
        "    right = [\")\", \"}\", \"]\"]\n",
        "    pairs = [(\"(\", \")\"), (\"{\", \"}\"), (\"[\", \"]\")]\n",
        "    st = stack2()\n",
        "    for s in expression:\n",
        "        if s in left:\n",
        "            st.push(s)\n",
        "\n",
        "        if s in right:\n",
        "            t = st.pop()\n",
        "            if (t,s) in pairs:\n",
        "                continue\n",
        "            else:\n",
        "                print(\"Found mismatch pair : \" + t + \" and \" + s)\n",
        "                return False\n",
        "    else:\n",
        "        if st.head == None:\n",
        "            print(\"The expression is valid.\")\n",
        "            return True\n",
        "        else:\n",
        "            print(\"We have unclosed brackets.\")\n",
        "            return False\n",
        "            \n",
        "expressions = [\"{a * (c + d) + 1} * 15\", \"((a - b ] + 1 * 15)\", \"(({[]})) )\"]\n",
        "# Should give right, wrong, and wrong\n",
        "for e in expressions:\n",
        "    parenthesis_checking(e)\n"
      ],
      "execution_count": null,
      "outputs": [
        {
          "output_type": "stream",
          "text": [
            "The expression is valid.\n",
            "Found mismatch pair : ( and ]\n",
            "Found mismatch pair : Enmpy and )\n"
          ],
          "name": "stdout"
        }
      ]
    },
    {
      "cell_type": "code",
      "metadata": {
        "id": "zGWtSsMbNQYU"
      },
      "source": [
        "# infix to postfix\n",
        "import re\n",
        "\n",
        "def isFloat(s):\n",
        "    try: \n",
        "        float(s)\n",
        "    except ValueError: \n",
        "        return False\n",
        "    return True\n",
        "\n",
        "def format_expression(expression : str):\n",
        "\n",
        "    output = []\n",
        "    for e in expression:\n",
        "        if isFloat(e):\n",
        "            output.append(e)\n",
        "        else:\n",
        "            # not number\n",
        "            e = e.replace(\" \", \"\") # remove all whitespace\n",
        "            for a in e:\n",
        "                output.append(a)\n",
        "\n",
        "    return output\n",
        "\n",
        "def infix_postfix(expression : str):\n",
        "    left = \"(\"\n",
        "    right = \")\"\n",
        "    operator_precedence = {\"(\":0 , \"+\":1, \"-\": 1, \"*\":2, \"/\":2, \"^\":3}\n",
        "    operators = operator_precedence.keys()\n",
        "    if parenthesis_checking(expression):\n",
        "        st = stack2()\n",
        "        output = []\n",
        "        expression = re.split(\"(\\d+\\.?\\d*)\" , expression)\n",
        "        # Example : ( 21 + 15) ^ 2 - 3 + ( 5 - 4) * 14\n",
        "        # By doing the re.split(\"(\\d+\\.?\\d*)\"), we will get\n",
        "        # ['( ', '21', ' + ', '15', ') ^ ', '2', ' - ', '3', ' + ( ', '5', ' - ', '4', ') * ', '14', '']\n",
        "        # Notice ') ^' is not what we want, we want ')' , '^'\n",
        "        # Then we use format_expression to further format this\n",
        "        expression = format_expression(expression)\n",
        "        #print(expression)\n",
        "        st = stack2()\n",
        "        for le in expression:\n",
        "            if isFloat(le) or le.isalpha():\n",
        "                output.append(le)\n",
        "            elif le == left:\n",
        "                st.push(le)\n",
        "            elif le == right:\n",
        "                top = st.pop()\n",
        "                while top != left:\n",
        "                    output.append(top)\n",
        "                    top = st.pop()\n",
        "            else:\n",
        "                while (not st.isEmpty() and \\\n",
        "                       (operator_precedence[st.peek()] >= operator_precedence[le])):\n",
        "                    output.append(st.pop())\n",
        "                st.push(le) \n",
        "\n",
        "\n",
        "        # Scanning is over, pop stack and append to output\n",
        "        while st.head:\n",
        "            # while st.head is not None\n",
        "            output.append(st.pop())\n",
        "\n",
        "        return output\n",
        "\n",
        "    else:\n",
        "        print('Expression has parenthesis mismatch.')"
      ],
      "execution_count": 69,
      "outputs": []
    },
    {
      "cell_type": "code",
      "metadata": {
        "colab": {
          "base_uri": "https://localhost:8080/",
          "height": 70
        },
        "id": "Iq9VYH6dNQah",
        "outputId": "c676a099-71d1-4aba-c6fb-f705fa158c81"
      },
      "source": [
        "result = infix_postfix(\"71.5^ 2 - 3 + ( 5 - 4) * 14\")\n",
        "print(result)\n",
        "postfix_str = \"\".join(result)\n",
        "postfix_str"
      ],
      "execution_count": 70,
      "outputs": [
        {
          "output_type": "stream",
          "text": [
            "The expression is valid.\n",
            "['71.5', '2', '^', '3', '-', '5', '4', '-', '14', '*', '+']\n"
          ],
          "name": "stdout"
        },
        {
          "output_type": "execute_result",
          "data": {
            "application/vnd.google.colaboratory.intrinsic+json": {
              "type": "string"
            },
            "text/plain": [
              "'71.52^3-54-14*+'"
            ]
          },
          "metadata": {
            "tags": []
          },
          "execution_count": 70
        }
      ]
    },
    {
      "cell_type": "code",
      "metadata": {
        "id": "WYkx8xntNQc5"
      },
      "source": [
        "# Evaluation\n",
        "\n",
        "def evaluation(expression):\n",
        "    st = stack2()\n",
        "    for e in expression:\n",
        "        if e.isalpha():\n",
        "            print(\"There is an alphabet in the input. This method can only evaluate numeric values.\")\n",
        "            return\n",
        "        if isFloat(e):\n",
        "            st.push(float(e))\n",
        "\n",
        "        else:\n",
        "            # e must be an operator\n",
        "            second = st.pop()\n",
        "            first = st.pop()\n",
        "            # first and second are numbers because we cast values to float when pushing into st\n",
        "            if e == \"*\":\n",
        "                st.push(first * second)\n",
        "                print(\"Doing {0}*{1}\".format(first,second))\n",
        "            elif e == \"/\":\n",
        "                st.push(first/second)\n",
        "                print(\"Doing {0}/{1}\".format(first,second))\n",
        "            elif e == \"+\":\n",
        "                st.push(first + second)\n",
        "                print(\"Doing {0}+{1}\".format(first,second))\n",
        "            elif e == \"-\":\n",
        "                st.push(first - second)\n",
        "                print(\"Doing {0}-{1}\".format(first,second))\n",
        "            elif e == \"^\":\n",
        "                st.push(first**second)\n",
        "                print(\"Doing {0}^{1}\".format(first,second))\n",
        "            else:\n",
        "                print('Unrecognized operator {}'.format(e))\n",
        "                return\n",
        "\n",
        "    else:\n",
        "        # for loop ends\n",
        "        return st.pop()\n",
        "\n",
        "\n",
        "    \n"
      ],
      "execution_count": 71,
      "outputs": []
    },
    {
      "cell_type": "code",
      "metadata": {
        "colab": {
          "base_uri": "https://localhost:8080/"
        },
        "id": "79fhtSqopAsb",
        "outputId": "ebb70574-0a67-47ed-8060-5dcdd9c070b6"
      },
      "source": [
        "evaluation(result)"
      ],
      "execution_count": 72,
      "outputs": [
        {
          "output_type": "stream",
          "text": [
            "Doing 71.5^2.0\n",
            "Doing 5112.25-3.0\n",
            "Doing 5.0-4.0\n",
            "Doing 1.0*14.0\n",
            "Doing 5109.25+14.0\n"
          ],
          "name": "stdout"
        },
        {
          "output_type": "execute_result",
          "data": {
            "text/plain": [
              "5123.25"
            ]
          },
          "metadata": {
            "tags": []
          },
          "execution_count": 72
        }
      ]
    },
    {
      "cell_type": "code",
      "metadata": {
        "id": "lOt5RxTtpAuq"
      },
      "source": [
        ""
      ],
      "execution_count": null,
      "outputs": []
    },
    {
      "cell_type": "code",
      "metadata": {
        "id": "Qz5L9_1DpAxE"
      },
      "source": [
        ""
      ],
      "execution_count": null,
      "outputs": []
    }
  ]
}